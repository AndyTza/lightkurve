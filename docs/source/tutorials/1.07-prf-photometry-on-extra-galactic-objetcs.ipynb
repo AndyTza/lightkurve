{
 "cells": [
  {
   "cell_type": "markdown",
   "metadata": {},
   "source": [
    "# How to perform PRF photometry on Extra-Galactic Objects"
   ]
  },
  {
   "cell_type": "markdown",
   "metadata": {},
   "source": [
    "\n",
    "In this tutorial, we will demonstrate a set of new tools introduced in `lightkurve` to perform PRF photometry on extra-galactic objects such as AGN. One of the highlights of our new tools is generating priors for not only the central source that we're trying to create a scene model, but also to estimate a better PSF the user can now also generate priors based on surrounding sources. This is especially useful in cases where crowded fields are present"
   ]
  },
  {
   "cell_type": "markdown",
   "metadata": {},
   "source": [
    "## Using `.get_prior()`"
   ]
  },
  {
   "cell_type": "markdown",
   "metadata": {},
   "source": [
    "The function `.get_prior` is an automated way to generate a list of priors of all sources present in a given tpf. The prior returns 2 positional vectors (column, row) alongside with a flux and associated id number for each source. What's unique about `.get_priors()` is that it will also generate a prior for sources that have their PSF wings extend on the TPF. This altogetger will begin eliminating methods of contamination. \n",
    "\n",
    "We will initially begin with an isolated AGN to perform PRF photometry and demonstrate a Scene Model with the condition of it being a realively isolated sample"
   ]
  },
  {
   "cell_type": "code",
   "execution_count": 304,
   "metadata": {},
   "outputs": [],
   "source": [
    "from lightkurve import KeplerTargetPixelFile\n",
    "tpf = KeplerTargetPixelFile.from_archive(10645722, quarter=16, quality_bitmask='hardest')"
   ]
  },
  {
   "cell_type": "code",
   "execution_count": 305,
   "metadata": {},
   "outputs": [
    {
     "name": "stdout",
     "output_type": "stream",
     "text": [
      "   id        ra        dec       pmra    pmdec    mag  \n",
      "            deg        deg     mas / yr mas / yr  mag  \n",
      "-------- ---------- ---------- -------- -------- ------\n",
      "10645722 281.843080  47.937813      0.0      0.0 15.695\n"
     ]
    },
    {
     "data": {
      "text/plain": [
       "<matplotlib.axes._subplots.AxesSubplot at 0x1c278f2850>"
      ]
     },
     "execution_count": 305,
     "metadata": {},
     "output_type": "execute_result"
    },
    {
     "data": {
      "image/png": "[encoded data removed]",
      "text/plain": [
       "<matplotlib.figure.Figure at 0x1c27975250>"
      ]
     },
     "metadata": {},
     "output_type": "display_data"
    }
   ],
   "source": [
    "print (tpf.get_sources())\n",
    "tpf.plot()"
   ]
  },
  {
   "cell_type": "markdown",
   "metadata": {},
   "source": [
    "As seen in the TPF plot above, the function `.get_sources()` also suggests that there are no other surrounding sources that may be interfering with the central source"
   ]
  },
  {
   "cell_type": "code",
   "execution_count": 306,
   "metadata": {},
   "outputs": [
    {
     "name": "stderr",
     "output_type": "stream",
     "text": [
      "Only once source has been identified. Priors will be generated by the TPF\n"
     ]
    }
   ],
   "source": [
    "# Generate the prior of the tpf \n",
    "prior = tpf.get_prior()"
   ]
  },
  {
   "cell_type": "markdown",
   "metadata": {},
   "source": [
    " When applying the function `.get_prior()` depending on each case, it will determine whether the field has identified either only one source or many. \n",
    " \n",
    " In the case of a single source (shown in this example), the priors will be generated by the TPF information available. The funciton will return a list of (column, row, max.flux, keplerid)"
   ]
  },
  {
   "cell_type": "code",
   "execution_count": 307,
   "metadata": {},
   "outputs": [],
   "source": [
    "# Import stuff we need\n",
    "import matplotlib.pyplot as plt\n",
    "%matplotlib inline\n",
    "from lightkurve import prf_photometry as prf_phot\n",
    "from oktopus import GaussianPrior, UniformPrior\n",
    "from lightkurve import prf as PRF\n",
    "import numpy as np"
   ]
  },
  {
   "cell_type": "markdown",
   "metadata": {},
   "source": [
    "We will now begin to utilize `StarPrior` to assign priors on the source."
   ]
  },
  {
   "cell_type": "code",
   "execution_count": 308,
   "metadata": {},
   "outputs": [],
   "source": [
    "Prior = prf_phot.StarPrior(col=GaussianPrior(mean=prior[0], var=2**2),\n",
    "                                              row=GaussianPrior(mean=prior[1], var=2**2),\n",
    "                                              flux=UniformPrior(lb=0, ub=prior[2]),\n",
    "                                              targetid=prior[3])\n",
    "\n",
    "model_1 = prf_phot.SceneModel(star_priors=[Prior],\n",
    "                   background_prior=prf_phot.BackgroundPrior(),\n",
    "                    focus_prior=prf_phot.FocusPrior(scale_col=GaussianPrior(mean=1, var=0.0001),\n",
    "                                           scale_row=GaussianPrior(mean=1, var=0.0001),\n",
    "                                           rotation_angle=UniformPrior(lb=-3.1415, ub=3.1415)),\n",
    "                   motion_prior=prf_phot.MotionPrior(shift_col=GaussianPrior(mean=0., var=0.01),\n",
    "                                            shift_row=GaussianPrior(mean=0., var=0.01)),\n",
    "                   prfmodel=prf_phot.KeplerPRF(tpf.channel, tpf.flux.shape[1:], tpf.column, tpf.row))"
   ]
  },
  {
   "cell_type": "code",
   "execution_count": 309,
   "metadata": {},
   "outputs": [
    {
     "data": {
      "image/png": "[encoded data removed]",
      "text/plain": [
       "<matplotlib.figure.Figure at 0x1c210026d0>"
      ]
     },
     "metadata": {},
     "output_type": "display_data"
    }
   ],
   "source": [
    "model_1.plot()"
   ]
  },
  {
   "cell_type": "markdown",
   "metadata": {},
   "source": [
    "We now consider another plausible case, where within the TPF there's an evident secondary source that may be interfering with the PSF of our primary target of interest "
   ]
  },
  {
   "cell_type": "code",
   "execution_count": 116,
   "metadata": {},
   "outputs": [
    {
     "name": "stdout",
     "output_type": "stream",
     "text": [
      "Downloading URL https://mast.stsci.edu/api/v0/download/file?uri=mast:Kepler/url/missions/kepler/target_pixel_files/0089/008946433/kplr008946433-2013098041711_lpd-targ.fits.gz to ./mastDownload/Kepler/kplr008946433_lc_Q000000000000001111/kplr008946433-2013098041711_lpd-targ.fits.gz ... [Done]\n"
     ]
    }
   ],
   "source": [
    "tpf = KeplerTargetPixelFile.from_archive(8946433, quarter=16, quality_bitmask='hardest')"
   ]
  },
  {
   "cell_type": "markdown",
   "metadata": {},
   "source": [
    "Notice that the central TPF target now is surrounded by 2 other targets (upper left and lower right) with their PSF wings significantly spreading into the region of our main target"
   ]
  },
  {
   "cell_type": "code",
   "execution_count": 117,
   "metadata": {},
   "outputs": [
    {
     "name": "stdout",
     "output_type": "stream",
     "text": [
      "   id       ra        dec       pmra    pmdec    mag  \n",
      "           deg        deg     mas / yr mas / yr  mag  \n",
      "------- ---------- ---------- -------- -------- ------\n",
      "8946433 289.395360  45.227104      8.0      6.0 14.293\n",
      "8946445 289.397640  45.227619      0.0      0.0 17.644\n"
     ]
    },
    {
     "data": {
      "text/plain": [
       "<matplotlib.axes._subplots.AxesSubplot at 0x1c214a5ed0>"
      ]
     },
     "execution_count": 117,
     "metadata": {},
     "output_type": "execute_result"
    },
    {
     "data": {
      "image/png": "[encoded data removed]",
      "text/plain": [
       "<matplotlib.figure.Figure at 0x1c1cf5e5d0>"
      ]
     },
     "metadata": {},
     "output_type": "display_data"
    }
   ],
   "source": [
    "print (tpf.get_sources())\n",
    "tpf.plot()"
   ]
  },
  {
   "cell_type": "code",
   "execution_count": 118,
   "metadata": {},
   "outputs": [
    {
     "name": "stderr",
     "output_type": "stream",
     "text": [
      "More sources have been identified in the TPF.\n"
     ]
    }
   ],
   "source": [
    "prior = tpf.get_prior()"
   ]
  },
  {
   "cell_type": "code",
   "execution_count": 299,
   "metadata": {},
   "outputs": [],
   "source": [
    "lst_prior = []\n",
    "for i in range (0, len(prior)):\n",
    "    Prior = prf_phot.StarPrior(col=GaussianPrior(mean=prior[i,0], var=2**2),\n",
    "                                              row=GaussianPrior(mean=prior[i,1], var=2**2),\n",
    "                                              flux=UniformPrior(lb=0, ub=prior[i,2]),\n",
    "                                              targetid=prior[i,3])\n",
    "    lst_prior.append(Prior)"
   ]
  },
  {
   "cell_type": "code",
   "execution_count": 300,
   "metadata": {},
   "outputs": [],
   "source": [
    "model_2 = prf_phot.SceneModel(star_priors=lst_prior,\n",
    "                   background_prior=prf_phot.BackgroundPrior(),\n",
    "                    focus_prior=prf_phot.FocusPrior(scale_col=GaussianPrior(mean=1, var=0.0001),\n",
    "                                           scale_row=GaussianPrior(mean=1, var=0.0001),\n",
    "                                           rotation_angle=UniformPrior(lb=-3.1415, ub=3.1415)),\n",
    "                   motion_prior=prf_phot.MotionPrior(shift_col=GaussianPrior(mean=0., var=0.01),\n",
    "                                            shift_row=GaussianPrior(mean=0., var=0.01)),\n",
    "                   prfmodel=prf_phot.KeplerPRF(tpf.channel, tpf.flux.shape[1:], tpf.column, tpf.row))"
   ]
  },
  {
   "cell_type": "code",
   "execution_count": 301,
   "metadata": {},
   "outputs": [
    {
     "data": {
      "image/png": "[encoded data removed]",
      "text/plain": [
       "<matplotlib.figure.Figure at 0x1c1da81890>"
      ]
     },
     "metadata": {},
     "output_type": "display_data"
    }
   ],
   "source": [
    "model_2.plot()"
   ]
  },
  {
   "cell_type": "markdown",
   "metadata": {},
   "source": [
    "### Current errors: \n",
    "    > Tranformations betweeen col,row positions and ra, dec from `.get_sources()`\n",
    "    > Flux callibration seems off"
   ]
  },
  {
   "cell_type": "code",
   "execution_count": 234,
   "metadata": {},
   "outputs": [
    {
     "name": "stdout",
     "output_type": "stream",
     "text": [
      "[ 20719.90039062    946.21081543]\n",
      "[ 7298.43359375  7266.52246094  7259.44873047 ...,  7302.75878906\n",
      "  7324.67285156  7318.72314453]\n"
     ]
    }
   ],
   "source": [
    "print (prior[:,2])\n",
    "MAXflux = np.nansum(tpf.flux, axis=(1, 2))\n",
    "\n",
    "%load_ext autoreload\n",
    "%autoreload \n",
    "print (MAXflux)\n",
    "\n"
   ]
  },
  {
   "cell_type": "code",
   "execution_count": 253,
   "metadata": {},
   "outputs": [
    {
     "data": {
      "text/plain": [
       "[<matplotlib.lines.Line2D at 0x1c277ff490>]"
      ]
     },
     "execution_count": 253,
     "metadata": {},
     "output_type": "execute_result"
    },
    {
     "data": {
      "image/png": "[encoded data removed]",
      "text/plain": [
       "<matplotlib.figure.Figure at 0x1c264e3650>"
      ]
     },
     "metadata": {},
     "output_type": "display_data"
    }
   ],
   "source": [
    "plt.plot(MAXflux)"
   ]
  },
  {
   "cell_type": "code",
   "execution_count": 265,
   "metadata": {},
   "outputs": [
    {
     "name": "stdout",
     "output_type": "stream",
     "text": [
      "The autoreload extension is already loaded. To reload it, use:\n",
      "  %reload_ext autoreload\n"
     ]
    }
   ],
   "source": [
    "tpf.get_sources()\n",
    "%load_ext autoreload\n",
    "%autoreload "
   ]
  },
  {
   "cell_type": "code",
   "execution_count": 267,
   "metadata": {},
   "outputs": [],
   "source": [
    "from lightkurve import utils"
   ]
  },
  {
   "cell_type": "code",
   "execution_count": 290,
   "metadata": {},
   "outputs": [
    {
     "name": "stdout",
     "output_type": "stream",
     "text": [
      "The autoreload extension is already loaded. To reload it, use:\n",
      "  %reload_ext autoreload\n"
     ]
    },
    {
     "data": {
      "text/plain": [
       "1.0804383723712298e-12"
      ]
     },
     "execution_count": 290,
     "metadata": {},
     "output_type": "execute_result"
    }
   ],
   "source": [
    "%load_ext autoreload\n",
    "%autoreload \n",
    "\n",
    "utils.kpmag_to_flux(22)\n"
   ]
  },
  {
   "cell_type": "code",
   "execution_count": 263,
   "metadata": {},
   "outputs": [],
   "source": [
    "\n",
    "\n"
   ]
  },
  {
   "cell_type": "code",
   "execution_count": 264,
   "metadata": {},
   "outputs": [
    {
     "data": {
      "text/plain": [
       "1.1230523475410921e-17"
      ]
     },
     "execution_count": 264,
     "metadata": {},
     "output_type": "execute_result"
    }
   ],
   "source": [
    "eqn"
   ]
  },
  {
   "cell_type": "code",
   "execution_count": null,
   "metadata": {},
   "outputs": [],
   "source": []
  }
 ],
 "metadata": {
  "kernelspec": {
   "display_name": "Python 2",
   "language": "python",
   "name": "python2"
  },
  "language_info": {
   "codemirror_mode": {
    "name": "ipython",
    "version": 2
   },
   "file_extension": ".py",
   "mimetype": "text/x-python",
   "name": "python",
   "nbconvert_exporter": "python",
   "pygments_lexer": "ipython2",
   "version": "2.7.14"
  }
 },
 "nbformat": 4,
 "nbformat_minor": 2
}
