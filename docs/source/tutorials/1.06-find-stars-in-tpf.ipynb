{
 "cells": [
  {
   "cell_type": "markdown",
   "metadata": {},
   "source": [
    "# How to find which sources are in your `TPF`"
   ]
  },
  {
   "cell_type": "markdown",
   "metadata": {},
   "source": [
    "Often Target Pixel Files contain more than one source: background stars, multiple stars, or even bright stars just-off-the-edge sending their PDF wings into your target-of-interest.  `lightkurve` now offers a convenience function to find out what sources may be present in-and-around your target pixel file."
   ]
  },
  {
   "cell_type": "markdown",
   "metadata": {},
   "source": [
    "### Using `.get_sources()`\n",
    "\n",
    "The function `get_sources` returns an astropy table of sources likely to affect the flux in your target of interest.  The function works by querying one of three catalogs: KIC, EPIC, or Gaia DR2.  The query is centered on your TPF, and extends to a perimeter of 3 pixels beyond the TPF boundary."
   ]
  },
  {
   "cell_type": "code",
   "execution_count": 2,
   "metadata": {},
   "outputs": [
    {
     "name": "stdout",
     "output_type": "stream",
     "text": [
      "Downloading URL https://mast.stsci.edu/api/v0/download/file?uri=mast:K2/url/missions/k2/target_pixel_files/c13/246900000/09000/ktwo246909194-c13_lpd-targ.fits.gz to ./mastDownload/K2/ktwo246909194-c13_lc/ktwo246909194-c13_lpd-targ.fits.gz ... [Done]\n"
     ]
    }
   ],
   "source": [
    "from lightkurve import KeplerTargetPixelFile\n",
    "tpf = KeplerTargetPixelFile.from_archive(246909194)"
   ]
  },
  {
   "cell_type": "markdown",
   "metadata": {},
   "source": [
    "To get the nearby sources from KIC/EPIC you can simply run the method `.get_sources` with its defaults:"
   ]
  },
  {
   "cell_type": "code",
   "execution_count": 9,
   "metadata": {},
   "outputs": [],
   "source": [
    "nearby_source_table = tpf.get_sources(dist_tolerance=44)"
   ]
  },
  {
   "cell_type": "code",
   "execution_count": 10,
   "metadata": {},
   "outputs": [
    {
     "data": {
      "text/html": [
       "&lt;Table masked=True length=9&gt;\n",
       "<table id=\"table120697269328\" class=\"table-striped table-bordered table-condensed\">\n",
       "<thead><tr><th>id</th><th>ra</th><th>dec</th><th>pmra</th><th>pmdec</th><th>mag</th></tr></thead>\n",
       "<thead><tr><th></th><th>deg</th><th>deg</th><th>mas / yr</th><th>mas / yr</th><th>mag</th></tr></thead>\n",
       "<thead><tr><th>int16</th><th>float64</th><th>float64</th><th>float64</th><th>float64</th><th>float32</th></tr></thead>\n",
       "<tr><td>32767</td><td>78.394418</td><td>16.832219</td><td>-0.800</td><td>-1.600</td><td>16.176</td></tr>\n",
       "<tr><td>32767</td><td>78.380820</td><td>16.828937</td><td>2.100</td><td>-8.300</td><td>16.440</td></tr>\n",
       "<tr><td>32767</td><td>78.396453</td><td>16.839530</td><td>2.500</td><td>-3.800</td><td>16.348</td></tr>\n",
       "<tr><td>32767</td><td>78.390347</td><td>16.842040</td><td>-4.500</td><td>-2.700</td><td>13.371</td></tr>\n",
       "<tr><td>32767</td><td>78.399825</td><td>16.844458</td><td>1.900</td><td>-4.200</td><td>16.313</td></tr>\n",
       "<tr><td>32767</td><td>78.391081</td><td>16.848978</td><td>10.900</td><td>-15.800</td><td>16.546</td></tr>\n",
       "<tr><td>32767</td><td>78.407415</td><td>16.851872</td><td>4.700</td><td>-11.000</td><td>17.018</td></tr>\n",
       "<tr><td>32767</td><td>78.390155</td><td>16.853481</td><td>0.000</td><td>-4.000</td><td>17.095</td></tr>\n",
       "<tr><td>32767</td><td>78.400013</td><td>16.856609</td><td>-2.800</td><td>-1.400</td><td>15.185</td></tr>\n",
       "</table>"
      ],
      "text/plain": [
       "<Table masked=True length=9>\n",
       "  id      ra        dec        pmra     pmdec     mag  \n",
       "         deg        deg      mas / yr  mas / yr   mag  \n",
       "int16  float64    float64    float64   float64  float32\n",
       "----- ---------- ---------- --------- --------- -------\n",
       "32767  78.394418  16.832219    -0.800    -1.600  16.176\n",
       "32767  78.380820  16.828937     2.100    -8.300  16.440\n",
       "32767  78.396453  16.839530     2.500    -3.800  16.348\n",
       "32767  78.390347  16.842040    -4.500    -2.700  13.371\n",
       "32767  78.399825  16.844458     1.900    -4.200  16.313\n",
       "32767  78.391081  16.848978    10.900   -15.800  16.546\n",
       "32767  78.407415  16.851872     4.700   -11.000  17.018\n",
       "32767  78.390155  16.853481     0.000    -4.000  17.095\n",
       "32767  78.400013  16.856609    -2.800    -1.400  15.185"
      ]
     },
     "execution_count": 10,
     "metadata": {},
     "output_type": "execute_result"
    }
   ],
   "source": [
    "nearby_source_table"
   ]
  },
  {
   "cell_type": "markdown",
   "metadata": {},
   "source": [
    "You can also run with Gaia, and adjust the magnitude limit and how-far-beyond the TPF boundary you wish to identify sources.  The Gaia queries warn you that the \"magnitude limit\" refers to Gaia DR2 $G$ magnitudes and not Kepler band magnitudes.  Presently high-proper motion sources are not supported."
   ]
  },
  {
   "cell_type": "code",
   "execution_count": 4,
   "metadata": {},
   "outputs": [
    {
     "name": "stderr",
     "output_type": "stream",
     "text": [
      "Gaia RAs and Decs are at EPOC 2015.5. These RA/Decs have not been corrected.\n",
      "Gaia magnitudes are in Gaia Gmag not KepMag\n"
     ]
    }
   ],
   "source": [
    "dr2_source_table = tpf.get_sources(catalog='Gaia', magnitude_limit=20, dist_tolerance=3)"
   ]
  },
  {
   "cell_type": "code",
   "execution_count": 5,
   "metadata": {},
   "outputs": [
    {
     "data": {
      "text/html": [
       "<i>Table masked=True length=8</i>\n",
       "<table id=\"table43618557400\" class=\"table-striped table-bordered table-condensed\">\n",
       "<thead><tr><th>id</th><th>ra</th><th>dec</th><th>pmra</th><th>pmdec</th><th>mag</th></tr></thead>\n",
       "<thead><tr><th></th><th>deg</th><th>deg</th><th>mas / yr</th><th>mas / yr</th><th>mag</th></tr></thead>\n",
       "<thead><tr><th>bytes28</th><th>float64</th><th>float64</th><th>float64</th><th>float64</th><th>float64</th></tr></thead>\n",
       "<tr><td>Gaia DR2 3394770845436752640</td><td>78.39440428676</td><td>16.83221154788</td><td>-0.176</td><td>-0.150</td><td>16.0793</td></tr>\n",
       "<tr><td>Gaia DR2 3394771051593554944</td><td>78.38596911588</td><td>16.83781511277</td><td>-6.315</td><td>-2.935</td><td>19.7103</td></tr>\n",
       "<tr><td>Gaia DR2 3394771051595182208</td><td>78.39034701499</td><td>16.84205041768</td><td>0.498</td><td>-0.949</td><td>13.2938</td></tr>\n",
       "<tr><td>Gaia DR2 3394771051595182080</td><td>78.39643917376</td><td>16.83952713305</td><td>1.505</td><td>0.000</td><td>16.3929</td></tr>\n",
       "<tr><td>Gaia DR2 3394771047298909184</td><td>78.38298711489</td><td>16.83609167480</td><td>1.128</td><td>0.014</td><td>19.0751</td></tr>\n",
       "<tr><td>Gaia DR2 3394771150378145408</td><td>78.39106279349</td><td>16.84896242855</td><td>0.467</td><td>-1.017</td><td>16.5074</td></tr>\n",
       "<tr><td>Gaia DR2 3394771150378139008</td><td>78.39895331676</td><td>16.84257347622</td><td>2.214</td><td>-2.006</td><td>18.4105</td></tr>\n",
       "<tr><td>Gaia DR2 3394771150378138880</td><td>78.39982615824</td><td>16.84448667253</td><td>0.295</td><td>-0.745</td><td>16.3749</td></tr>\n",
       "</table>"
      ],
      "text/plain": [
       "<Table masked=True length=8>\n",
       "             id                     ra       ...   pmdec     mag  \n",
       "                                   deg       ...  mas / yr   mag  \n",
       "          bytes28                float64     ...  float64  float64\n",
       "---------------------------- --------------- ... --------- -------\n",
       "Gaia DR2 3394770845436752640  78.39440428676 ...    -0.150 16.0793\n",
       "Gaia DR2 3394771051593554944  78.38596911588 ...    -2.935 19.7103\n",
       "Gaia DR2 3394771051595182208  78.39034701499 ...    -0.949 13.2938\n",
       "Gaia DR2 3394771051595182080  78.39643917376 ...     0.000 16.3929\n",
       "Gaia DR2 3394771047298909184  78.38298711489 ...     0.014 19.0751\n",
       "Gaia DR2 3394771150378145408  78.39106279349 ...    -1.017 16.5074\n",
       "Gaia DR2 3394771150378139008  78.39895331676 ...    -2.006 18.4105\n",
       "Gaia DR2 3394771150378138880  78.39982615824 ...    -0.745 16.3749"
      ]
     },
     "execution_count": 5,
     "metadata": {},
     "output_type": "execute_result"
    }
   ],
   "source": [
    "dr2_source_table"
   ]
  },
  {
   "cell_type": "markdown",
   "metadata": {},
   "source": [
    "Future features in lightkurve will be designed to consume the `get_sources` function.  Specifically PSF photometry and an interactive `bokeh` widget will automatically show the sources."
   ]
  }
 ],
 "metadata": {
  "kernelspec": {
   "display_name": "Python 3",
   "language": "python",
   "name": "python3"
  },
  "language_info": {
   "codemirror_mode": {
    "name": "ipython",
    "version": 3
   },
   "file_extension": ".py",
   "mimetype": "text/x-python",
   "name": "python",
   "nbconvert_exporter": "python",
   "pygments_lexer": "ipython3",
   "version": "3.6.4"
  }
 },
 "nbformat": 4,
 "nbformat_minor": 2
}
