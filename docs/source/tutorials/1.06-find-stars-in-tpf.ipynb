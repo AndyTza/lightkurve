{
 "cells": [
  {
   "cell_type": "markdown",
   "metadata": {},
   "source": [
    "# How to find which sources are in your `TPF`"
   ]
  },
  {
   "cell_type": "markdown",
   "metadata": {},
   "source": [
    "Often Target Pixel Files contain more than one source: background stars, multiple stars, or even bright stars just-off-the-edge sending their PDF wings into your target-of-interest.  `lightkurve` now offers a convenience function to find out what sources may be present in-and-around your target pixel file."
   ]
  },
  {
   "cell_type": "markdown",
   "metadata": {},
   "source": [
    "### Using `.get_sources()`\n",
    "\n",
    "The function `get_sources` returns an astropy table of sources likely to affect the flux in your target of interest.  The function works by querying one of three catalogs: KIC, EPIC, or Gaia DR2.  The query is centered on your TPF, and extends to a perimeter of 3 pixels beyond the TPF boundary."
   ]
  },
  {
   "cell_type": "code",
   "execution_count": 1,
   "metadata": {},
   "outputs": [],
   "source": [
    "from lightkurve import KeplerTargetPixelFile\n",
    "tpf = KeplerTargetPixelFile.from_archive(246909194)"
   ]
  },
  {
   "cell_type": "markdown",
   "metadata": {},
   "source": [
    "To get the nearby sources from KIC/EPIC you can simply run the method `.get_sources` with its defaults:"
   ]
  },
  {
   "cell_type": "code",
   "execution_count": 2,
   "metadata": {},
   "outputs": [],
   "source": [
    "nearby_source_table = tpf.get_sources()"
   ]
  },
  {
   "cell_type": "code",
   "execution_count": 3,
   "metadata": {},
   "outputs": [
    {
     "data": {
      "text/html": [
       "&lt;Table masked=True length=2&gt;\n",
       "<table id=\"table103471443408\" class=\"table-striped table-bordered table-condensed\">\n",
       "<thead><tr><th>id</th><th>ra</th><th>dec</th><th>pmra</th><th>pmdec</th><th>mag</th></tr></thead>\n",
       "<thead><tr><th></th><th>deg</th><th>deg</th><th>mas / yr</th><th>mas / yr</th><th>mag</th></tr></thead>\n",
       "<thead><tr><th>int32</th><th>float64</th><th>float64</th><th>float64</th><th>float64</th><th>float32</th></tr></thead>\n",
       "<tr><td>246909194</td><td>78.390347</td><td>16.842040</td><td>-4.500</td><td>-2.700</td><td>13.371</td></tr>\n",
       "<tr><td>246909939</td><td>78.391081</td><td>16.848978</td><td>10.900</td><td>-15.800</td><td>16.546</td></tr>\n",
       "</table>"
      ],
      "text/plain": [
       "<Table masked=True length=2>\n",
       "    id        ra        dec        pmra     pmdec     mag  \n",
       "             deg        deg      mas / yr  mas / yr   mag  \n",
       "  int32    float64    float64    float64   float64  float32\n",
       "--------- ---------- ---------- --------- --------- -------\n",
       "246909194  78.390347  16.842040    -4.500    -2.700  13.371\n",
       "246909939  78.391081  16.848978    10.900   -15.800  16.546"
      ]
     },
     "execution_count": 3,
     "metadata": {},
     "output_type": "execute_result"
    }
   ],
   "source": [
    "nearby_source_table"
   ]
  },
  {
   "cell_type": "markdown",
   "metadata": {},
   "source": [
    "You can also run with Gaia, and adjust the magnitude limit and how-far-beyond the TPF boundary you wish to identify sources.  The Gaia queries warn you that the \"magnitude limit\" refers to Gaia DR2 $G$ magnitudes and not Kepler band magnitudes.  Presently high-proper motion sources are not supported."
   ]
  },
  {
   "cell_type": "code",
   "execution_count": 4,
   "metadata": {},
   "outputs": [
    {
     "name": "stderr",
     "output_type": "stream",
     "text": [
      "Gaia RAs and Decs are at EPOC 2015.5. These RA/Decs have not been corrected.\n",
      "Gaia magnitudes are in Gaia Gmag not KepMag\n"
     ]
    }
   ],
   "source": [
    "dr2_source_table = tpf.get_sources(catalog='Gaia', magnitude_limit=20, dist_tolerance=3)"
   ]
  },
  {
   "cell_type": "code",
   "execution_count": 5,
   "metadata": {},
   "outputs": [
    {
     "data": {
      "text/html": [
       "&lt;Table masked=True length=3&gt;\n",
       "<table id=\"table103478635856\" class=\"table-striped table-bordered table-condensed\">\n",
       "<thead><tr><th>id</th><th>ra</th><th>dec</th><th>pmra</th><th>pmdec</th><th>mag</th></tr></thead>\n",
       "<thead><tr><th></th><th>deg</th><th>deg</th><th>mas / yr</th><th>mas / yr</th><th>mag</th></tr></thead>\n",
       "<thead><tr><th>str28</th><th>float64</th><th>float64</th><th>float64</th><th>float64</th><th>float64</th></tr></thead>\n",
       "<tr><td>Gaia DR2 3394771051595182208</td><td>78.39034701499</td><td>16.84205041768</td><td>0.498</td><td>-0.949</td><td>13.2938</td></tr>\n",
       "<tr><td>Gaia DR2 3394771051595182080</td><td>78.39643917376</td><td>16.83952713305</td><td>1.505</td><td>0.000</td><td>16.3929</td></tr>\n",
       "<tr><td>Gaia DR2 3394771150378145408</td><td>78.39106279349</td><td>16.84896242855</td><td>0.467</td><td>-1.017</td><td>16.5074</td></tr>\n",
       "</table>"
      ],
      "text/plain": [
       "<Table masked=True length=3>\n",
       "             id                     ra       ...   pmdec     mag  \n",
       "                                   deg       ...  mas / yr   mag  \n",
       "           str28                 float64     ...  float64  float64\n",
       "---------------------------- --------------- ... --------- -------\n",
       "Gaia DR2 3394771051595182208  78.39034701499 ...    -0.949 13.2938\n",
       "Gaia DR2 3394771051595182080  78.39643917376 ...     0.000 16.3929\n",
       "Gaia DR2 3394771150378145408  78.39106279349 ...    -1.017 16.5074"
      ]
     },
     "execution_count": 5,
     "metadata": {},
     "output_type": "execute_result"
    }
   ],
   "source": [
    "dr2_source_table"
   ]
  },
  {
   "cell_type": "markdown",
   "metadata": {},
   "source": [
    "Future features in lightkurve will be designed to consume the `get_sources` function.  Specifically PSF photometry and an interactive `bokeh` widget will automatically show the sources."
   ]
  },
  {
   "cell_type": "code",
   "execution_count": null,
   "metadata": {},
   "outputs": [],
   "source": []
  }
 ],
 "metadata": {
  "kernelspec": {
   "display_name": "Python 2",
   "language": "python",
   "name": "python2"
  },
  "language_info": {
   "codemirror_mode": {
    "name": "ipython",
    "version": 2
   },
   "file_extension": ".py",
   "mimetype": "text/x-python",
   "name": "python",
   "nbconvert_exporter": "python",
   "pygments_lexer": "ipython2",
   "version": "2.7.14"
  }
 },
 "nbformat": 4,
 "nbformat_minor": 2
}
